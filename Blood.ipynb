{
 "cells": [
  {
   "cell_type": "markdown",
   "metadata": {},
   "source": [
    "<center>\n",
    "\n",
    "# Blood - Transmutation\n",
    "\n",
    "</center>\n",
    "\n",
    "<div style=\"align-items:justify\">\n",
    "\n",
    "## How Blood effects people\n",
    "\n",
    "According to an artical in \"The Economic times News\" about how donating blood safely can reducing morbidity and mortality rates, stats that every two seconds someone in india needs blood.\n",
    "\n",
    "It is estimated that over 12,000 persons die every day in India due to non-availability of blood and Unfortunately, countries like india, many people who need transfusions do not have timely access to safe blood.\n",
    "\n",
    "You might be wondering what is safe blood, well safe blood is blood that has been processed and tested to reduce the risk of blood transfusion-related illnesses.\n",
    "\n",
    "The World Health Organization (WHO) has established principles for blood safety, including:\n",
    "\n",
    "- **Donors** :\n",
    "    Donors should be healthy and free of risk factors for infections like HIV. The WHO recommends that donors be voluntary, unpaid, and regular.\n",
    "\n",
    "- **Transfusion services** :\n",
    "    These services should ensure that blood is processed and tested safely and appropriately, and that it is used appropriately.\n",
    "\n",
    "- **screening** :\n",
    "   Blood donations should be screened for HIV, Hepatitis B and C, and syphilis.\n",
    "   \n",
    "## How does Blood works in our body ?\n",
    "\n",
    "At first you might think this is a dumb question but hear me out for a second, We all know that blood is used to transport oxigen to all parts of our body right, then why do we have multiple blood groups ?, like if the task of the blood is to just carry blood to all parts of our body then there should be only one type of blood, why are there so many blood groups ?, \n",
    "\n",
    "</div>"
   ]
  },
  {
   "cell_type": "code",
   "execution_count": 1,
   "metadata": {},
   "outputs": [
    {
     "name": "stdout",
     "output_type": "stream",
     "text": [
      "Hello World!\n"
     ]
    }
   ],
   "source": [
    "print(\"Hello World!\")"
   ]
  },
  {
   "cell_type": "markdown",
   "metadata": {},
   "source": [
    "## References\n",
    "\n",
    "1. [News about blood transfusion in india](https://economictimes.indiatimes.com/news/how-to/how-to-donate-blood-safely/articleshow/100953382.cms?from=mdr)\n",
    "2. [Deaths due to blood loss](https://www.google.com/search?q=how+many+people+die+due+to+blood+loss&oq=how+many+people+die+due+to+blood+loss&gs_lcrp=EgZjaHJvbWUqBwgAEAAYgAQyBwgAEAAYgAQyBwgBEAAYgAQyCAgCEAAYFhgeMggIAxAAGBYYHjIICAQQABgWGB4yCAgFEAAYFhgeMggIBhAAGBYYHjIMCAcQABgKGA8YFhgeMggICBAAGBYYHjIICAkQABgWGB7SAQkxNTQ1OWowajeoAgCwAgA&sourceid=chrome&ie=UTF-8)\n",
    "3. [Survival of blood transfusion recipients](https://www.ncbi.nlm.nih.gov/pmc/articles/PMC3926731/)\n",
    "4. [Blood testing (Blood Typing)](https://medlineplus.gov/ency/article/003345.htm#:~:text=Blood%20typing%20is%20done%20so,These%20proteins%20are%20called%20antigens.)"
   ]
  }
 ],
 "metadata": {
  "kernelspec": {
   "display_name": "Python 3",
   "language": "python",
   "name": "python3"
  },
  "language_info": {
   "codemirror_mode": {
    "name": "ipython",
    "version": 3
   },
   "file_extension": ".py",
   "mimetype": "text/x-python",
   "name": "python",
   "nbconvert_exporter": "python",
   "pygments_lexer": "ipython3",
   "version": "3.12.3"
  }
 },
 "nbformat": 4,
 "nbformat_minor": 2
}
