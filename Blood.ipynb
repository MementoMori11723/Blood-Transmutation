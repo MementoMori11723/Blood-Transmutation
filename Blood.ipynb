{
 "cells": [
  {
   "cell_type": "markdown",
   "metadata": {},
   "source": [
    "<center>\n",
    "\n",
    "# Blood - Transmutation\n",
    "\n",
    "</center>\n",
    "\n",
    "<div style=\"align-items:justify\">\n",
    "\n",
    "According to an artical in \"The Economic times News\" about how donating blood safely can reducing morbidity and mortality rates, stats that every two seconds someone in india needs blood.\n",
    "\n",
    "It is estimated that over 12,000 persons die every day in India due to non-availability of blood and Unfortunately, countries like india, many people who need transfusions do not have timely access to safe blood.\n",
    "\n",
    "You might be wondering what is safe blood, well safe blood is blood that has been processed and tested to reduce the risk of blood transfusion-related illnesses.\n",
    "\n",
    "The World Health Organization (WHO) has established principles for blood safety, including:\n",
    "\n",
    "- **Donors** :\n",
    "    Donors should be healthy and free of risk factors for infections like HIV. The WHO recommends that donors be voluntary, unpaid, and regular.\n",
    "\n",
    "- **Transfusion services** :\n",
    "    These services should ensure that blood is processed and tested safely and appropriately, and that it is used appropriately.\n",
    "\n",
    "- **screening** :\n",
    "   Blood donations should be screened for HIV, Hepatitis B and C, and syphilis.\n",
    "   \n",
    "\n",
    "</div>"
   ]
  },
  {
   "cell_type": "code",
   "execution_count": null,
   "metadata": {},
   "outputs": [],
   "source": []
  }
 ],
 "metadata": {
  "language_info": {
   "name": "python"
  }
 },
 "nbformat": 4,
 "nbformat_minor": 2
}
